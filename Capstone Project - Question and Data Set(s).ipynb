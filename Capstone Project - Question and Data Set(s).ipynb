{
 "cells": [
  {
   "cell_type": "markdown",
   "metadata": {},
   "source": [
    "# Capstone Project\n",
    "***"
   ]
  },
  {
   "cell_type": "markdown",
   "metadata": {},
   "source": [
    "## Week 3 Milestone"
   ]
  },
  {
   "cell_type": "markdown",
   "metadata": {},
   "source": [
    "### Question and Data Set(s)"
   ]
  },
  {
   "cell_type": "markdown",
   "metadata": {},
   "source": [
    "What is the question you hope to answer?\n",
    "- What is the best credit scoring model to use for those who have little to no digital footprint like _sari-sari_ store owners and their customers?"
   ]
  },
  {
   "cell_type": "markdown",
   "metadata": {},
   "source": [
    "What data are you planning to use to answer that question?\n",
    "- I plan to use our organization's, Hapinoy's, dataset as well as look into Harvard Dataverse's Microcredit in Theory and Practice: Using Randomized Credit Scoring for Impact Evaluation."
   ]
  },
  {
   "cell_type": "markdown",
   "metadata": {},
   "source": [
    "What do you know about the data so far?\n",
    "- One challenging thing about Hapinoy's dataset might be the accuracy of the data since some are just self-reported by the _sari-sari_ store owners. We also don't have that much data in terms of numbers. Harvard's dataset, on the other hand, is a bit old but might be of help to serve as additional material."
   ]
  },
  {
   "cell_type": "markdown",
   "metadata": {},
   "source": [
    "Why did you choose this topic?\n",
    "- I'm currently working at Hapinoy, a social enterprise which aims to provide more opportunities for _sari-sari_ stores by being their _katuwang_ or their partner. A lot might actually think that _sari-sari_ stores are just small time businesses but we want to shift this way thinking and empower them that they are _sari-sari_ stores and not just _sari-sari_ stores. There are a lot of ways on which we can help do this and what we're currently focusing on now is doing so through technology. With technology, a lot of possibilities actually opens up. And what I want to explore on is how we can efficiently extend credit to _sari-sari_ store owners, as well as their customers, given that there is very little to no data available on this market."
   ]
  },
  {
   "cell_type": "code",
   "execution_count": null,
   "metadata": {},
   "outputs": [],
   "source": []
  }
 ],
 "metadata": {
  "kernelspec": {
   "display_name": "Python 3",
   "language": "python",
   "name": "python3"
  },
  "language_info": {
   "codemirror_mode": {
    "name": "ipython",
    "version": 3
   },
   "file_extension": ".py",
   "mimetype": "text/x-python",
   "name": "python",
   "nbconvert_exporter": "python",
   "pygments_lexer": "ipython3",
   "version": "3.7.3"
  }
 },
 "nbformat": 4,
 "nbformat_minor": 2
}
